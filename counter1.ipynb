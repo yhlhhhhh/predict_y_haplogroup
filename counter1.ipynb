{
 "cells": [
  {
   "cell_type": "code",
   "execution_count": null,
   "id": "4469f290",
   "metadata": {},
   "outputs": [],
   "source": [
    "# Draw a haplogroup pie chart in the database\n",
    "import pandas as pd\n",
    "import matplotlib.pyplot as plt\n",
    "from collections import Counter\n",
    "\n",
    "plt.rcParams['font.sans-serif']=['SimHei']\n",
    "df = pd.read_csv('~30000ybp_database.csv', index_col = 0, header = 0)\n",
    "labels = df.index\n",
    "data = Counter(labels)\n",
    "item = data.items()\n",
    "num = data.values()\n",
    "labels = []\n",
    "for i in item:\n",
    "    labels.append(f'{i[0]}:{i[-1]}')\n",
    "plt.figure(dpi=600)\n",
    "plt.pie(num)\n",
    "plt.legend(labels = labels, loc = 2, bbox_to_anchor = (1.05, 1.0), borderaxespad = 0.)\n",
    "plt.title('Y-STR数据库中各支系占比')\n",
    "plt.tight_layout()\n",
    "plt.savefig('数据库单倍群占比情况.jpg')"
   ]
  },
  {
   "cell_type": "code",
   "execution_count": null,
   "id": "f951b784",
   "metadata": {},
   "outputs": [],
   "source": [
    "# Count total sample size\n",
    "df = pd.read_csv('~30000ybp_database.csv', index_col = 0, header = 0)\n",
    "labels = df.index\n",
    "len(labels)"
   ]
  },
  {
   "cell_type": "code",
   "execution_count": null,
   "id": "d95c2ae6",
   "metadata": {},
   "outputs": [],
   "source": [
    "# Calculate the proportion of each haplogroup and output it into the csv file.\n",
    "labels = df.index\n",
    "data = Counter(labels)\n",
    "labels = data.keys()\n",
    "value = data.values()\n",
    "pct = list(map(lambda n: n / 1375, value))\n",
    "s = pd.Series(dict(zip(labels, pct)))\n",
    "s.to_csv('数据库中各支系占比.csv')"
   ]
  }
 ],
 "metadata": {
  "kernelspec": {
   "display_name": "Python 3",
   "language": "python",
   "name": "python3"
  },
  "language_info": {
   "codemirror_mode": {
    "name": "ipython",
    "version": 3
   },
   "file_extension": ".py",
   "mimetype": "text/x-python",
   "name": "python",
   "nbconvert_exporter": "python",
   "pygments_lexer": "ipython3",
   "version": "3.8.8"
  }
 },
 "nbformat": 4,
 "nbformat_minor": 5
}
